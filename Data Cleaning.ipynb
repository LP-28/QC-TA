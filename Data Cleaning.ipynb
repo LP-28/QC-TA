{
 "cells": [
  {
   "cell_type": "markdown",
   "metadata": {},
   "source": [
    "# Qunatitive Cell and Tissue Analysis: Practicum I"
   ]
  },
  {
   "cell_type": "markdown",
   "metadata": {},
   "source": [
    "## Data Cleaning"
   ]
  },
  {
   "cell_type": "markdown",
   "metadata": {},
   "source": [
    "### Packages"
   ]
  },
  {
   "cell_type": "code",
   "execution_count": 2,
   "metadata": {},
   "outputs": [],
   "source": [
    "import os\n",
    "import numpy as np\n",
    "import matplotlib.pyplot as plt\n",
    "import pandas as pd"
   ]
  },
  {
   "cell_type": "markdown",
   "metadata": {},
   "source": [
    "### Setup Functions"
   ]
  },
  {
   "cell_type": "code",
   "execution_count": 3,
   "metadata": {},
   "outputs": [],
   "source": [
    "def convert_txt_to_grid(txtdata, minlen=0):\n",
    "    lines = txtdata.split('\\n')\n",
    "    grid = []\n",
    "    for line in lines:\n",
    "        l = line.split()\n",
    "        if len(l) >= minlen:\n",
    "            grid.append(list(filter(lambda x: x != '', l)))\n",
    "    return grid"
   ]
  },
  {
   "cell_type": "code",
   "execution_count": 4,
   "metadata": {},
   "outputs": [],
   "source": [
    "def find_tables(raw_data, dim, xlabel0, ylabel0):\n",
    "    N, M = dim[0], dim[1]\n",
    "    grid = convert_txt_to_grid(raw_data, M)\n",
    "    H = len(grid) # hight of grid\n",
    "    searching, i = True, 0\n",
    "    tables = []\n",
    "    while searching:\n",
    "        if (grid[i][0] == xlabel0) & (grid[i+1][0] == ylabel0):\n",
    "            table = grid[i+1:N+i+1]\n",
    "            tables.append(table)\n",
    "            i += N\n",
    "        i += 1\n",
    "        searching = H-i > N\n",
    "    return tables"
   ]
  },
  {
   "cell_type": "code",
   "execution_count": 5,
   "metadata": {},
   "outputs": [],
   "source": [
    "def extract_tables_from_txt(filename, tablenames=None):\n",
    "    dirname = os.path.abspath('')\n",
    "    \n",
    "    file = os.path.join(dirname, filename)\n",
    "    with open(file, 'r') as f:\n",
    "        raw_data = f.read()\n",
    "        f.close()\n",
    "    tables = find_tables(raw_data, (8, 12), '1', 'A')\n",
    "    if tablenames:\n",
    "        table_dict = {}\n",
    "        for i, table in enumerate(tables):\n",
    "            table_dict[tablenames[i]] = table\n",
    "        tables = table_dict\n",
    "    return tables"
   ]
  },
  {
   "cell_type": "code",
   "execution_count": 6,
   "metadata": {},
   "outputs": [],
   "source": [
    "def write_tables(tables, filename, columnlabels=None):\n",
    "    dirname = os.path.abspath('')\n",
    "    \n",
    "    file = os.path.join(dirname, filename)\n",
    "    with open(file, 'w') as f:\n",
    "        if columnlabels:\n",
    "            f.write(columnlabels)\n",
    "        for name, table in tables.items():\n",
    "            for row in table:\n",
    "                f.write(' '.join(row) + ' ' + name + '\\n')\n",
    "        f.close()"
   ]
  },
  {
   "cell_type": "markdown",
   "metadata": {},
   "source": [
    "### Gathering data"
   ]
  },
  {
   "cell_type": "code",
   "execution_count": 7,
   "metadata": {},
   "outputs": [],
   "source": [
    "filenames = ['DataStandardCurve.txt', 'Marie_Marnix_2.txt', 'Céline_Leen_3.txt']\n",
    "tablenames = [['C0', 'M1'], ['M2'], ['M3']]\n",
    "table_dict = {}\n",
    "\n",
    "for i, filename in enumerate(filenames):\n",
    "    table_dict.update(extract_tables_from_txt(filename, tablenames[i]))\n",
    "\n",
    "write_tables(table_dict, 'data.txt', columnlabels='rowlabel ' + ' '.join( [str(i) for i in range(1, 13)] ) + ' label\\n')"
   ]
  },
  {
   "cell_type": "code",
   "execution_count": null,
   "metadata": {},
   "outputs": [],
   "source": []
  }
 ],
 "metadata": {
  "kernelspec": {
   "display_name": "Python 3",
   "language": "python",
   "name": "python3"
  },
  "language_info": {
   "codemirror_mode": {
    "name": "ipython",
    "version": 3
   },
   "file_extension": ".py",
   "mimetype": "text/x-python",
   "name": "python",
   "nbconvert_exporter": "python",
   "pygments_lexer": "ipython3",
   "version": "3.7.6"
  }
 },
 "nbformat": 4,
 "nbformat_minor": 4
}
